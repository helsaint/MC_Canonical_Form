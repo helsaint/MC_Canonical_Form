{
 "cells": [
  {
   "cell_type": "code",
   "execution_count": 1,
   "metadata": {
    "collapsed": true
   },
   "outputs": [],
   "source": [
    "import numpy as np\n",
    "import math"
   ]
  },
  {
   "cell_type": "markdown",
   "metadata": {},
   "source": [
    "##Absorbing Markov Chains\n",
    "An absorbing MC is one that is impossible to leave, i.e. in the transition matrix there exists two states where the probability is 1. In the absorbing MC a state which does not have probability of 1 is called a transient state."
   ]
  },
  {
   "cell_type": "markdown",
   "metadata": {},
   "source": [
    "In the *Drunkard's Walk* 0,1,2,3,4 are corners. At 0 and 4 are the drunkard's bar and home respectively. If he arrives at either he will stay there, i.e P=1.\n",
    "\n",
    "![Drunkard diagram](/files/Drunkard_walk.svg)\n",
    "\n",
    "| 0 | 1 | 2 | 3 | 4 |\n",
    "| --|:--:|:--:|:--:| --:|\n",
    "| 1 | 0 | 0 | 0 | 0 |\n",
    "|1/2| 0 |1/2| 0 | 0 |\n",
    "| 0 |1/2| 0 |1/2| 0 |\n",
    "| 0 | 0 |1/2| 0 |1/2|\n",
    "| 0 | 0 | 0 | 0 | 1 |\n",
    "\n",
    "\n",
    "We have to render this matrix in canonical form of:\n",
    "\n",
    "|Transition|Absorbing|\n",
    "|----------|--------:|\n",
    "|**Q**|**R**|\n",
    "|**0**|**I**|\n",
    "\n",
    "Where Q is $tr$ x $tr$ matrix (*tr* are the transition states i.e 1,2,3 -> 3x3); R is $tr$ x $abs$ matrix (*abs* is the absorbtion matrix -> 3x2) 0 is an *tr* x *abs* 0-matrix and I is *abs* x *abs* identity matrix.\n",
    "\n",
    "1. Q = rows(1,2,3) x col(1,2,3)\n",
    "2. R = rows(1,2,3) x col(0,4)\n",
    "3. 0 = rows(0,4) x col(1,2,3)\n",
    "4. I = rows(0,4) x col(0,4)\n",
    "\n",
    "Resulting in \n",
    "\n",
    "| 0 | 1 | 2 | 3 | 4 |\n",
    "| --|:--:|:--:|:--:| --:|\n",
    "| 0 |1/2| 0 |1/2| 0 |\n",
    "|1/2| 0 |1/2| 0 | 0 |\n",
    "| 0 |1/2| 0 | 0 |1/2|\n",
    "| 0 | 0 | 0 | 1 | 0 |\n",
    "| 0 | 0 | 0 | 0 | 1 |"
   ]
  },
  {
   "cell_type": "markdown",
   "metadata": {},
   "source": [
    "To see if matrix has absorbing state and can be written in canonical form:\n",
    "1. check matrix is a square matrix\n",
    "2. check that at least one row has all entries, except the one on the diagonal as 0s. The entry on the diagonal\n",
    "   must be a 1.\n",
    "3. check if matrix is irreducible. If there are $m$ states then $I + P^1 + P^2 + ... + P^m$ must have all entries    as none zero"
   ]
  },
  {
   "cell_type": "code",
   "execution_count": 2,
   "metadata": {
    "collapsed": true
   },
   "outputs": [],
   "source": [
    "def is_absorbing(mat):\n",
    "    is_square = False\n",
    "    is_absorbing = False\n",
    "    is_irrducible = False\n",
    "    m = mat.shape\n",
    "    sum_P = np.zeros((m[0],m[0]))\n",
    "    if not(m[0] == m[1]):\n",
    "        return False\n",
    "    \n",
    "    for i in range(m[0]):\n",
    "        if (mat[i,i] == 1) and (np.round(np.sum(mat[i,:]),1) == 1):\n",
    "            is_absorbing = True\n",
    "            break\n",
    "    if not(is_absorbing):\n",
    "        return False\n",
    "    \n",
    "    init_test = np.zeros((6))\n",
    "    test_irreducible = np.zeros(6)\n",
    "    for i in range (6):\n",
    "        init_test[i] = 1\n",
    "        x = np.dot(init_test, transition_matrix_drunkard)\n",
    "        y = np.nonzero(x)[1]\n",
    "        for j in range(len(y.tolist()[0])):\n",
    "            a = y.tolist()[0][j]\n",
    "            if test_irreducible[a] == 0:\n",
    "                test_irreducible[a] = 1\n",
    "        init_test[i] = 0\n",
    "\n",
    "    if np.all(test_irreducible):\n",
    "        return True\n",
    "    else:\n",
    "        return False\n"
   ]
  },
  {
   "cell_type": "code",
   "execution_count": 3,
   "metadata": {
    "collapsed": true
   },
   "outputs": [],
   "source": [
    "def convert_canonical_form(mat):\n",
    "    if not(is_absorbing(mat)):\n",
    "        return [],0,[]\n",
    "    \n",
    "    m = mat.shape[0]\n",
    "    list_ones = []\n",
    "    for i in range(m):\n",
    "        for j in range(m):\n",
    "            if((mat[i,j] == 1) and (i == j)):\n",
    "                list_ones.append([i,j])\n",
    "    r = len(list_ones)\n",
    "    t = m-r\n",
    "    Q = mat\n",
    "    for i in reversed(range(r)):\n",
    "        Q = np.delete(Q,list_ones[i][0],1)\n",
    "    for i in reversed(range(r)):\n",
    "        Q = np.delete(Q,list_ones[i][1],0)\n",
    "        \n",
    "    for i in range(r):\n",
    "        temp_1 = mat[:,list_ones[i][1]]\n",
    "        if i == 0:\n",
    "            R = temp_1\n",
    "        else:\n",
    "            R = np.concatenate((R,temp_1),1)\n",
    "    del temp_1\n",
    "    \n",
    "    for i in reversed(range(r)):\n",
    "        R = np.delete(R,list_ones[i][0],0)\n",
    "\n",
    "    return Q, t, R"
   ]
  },
  {
   "cell_type": "code",
   "execution_count": 4,
   "metadata": {
    "collapsed": true
   },
   "outputs": [],
   "source": [
    "#Using a transition matrix to test\n",
    "transition_matrix_drunkard = np.matrix([[ 1 , 0 , 0 , 0 , 0 , 0 ],\n",
    "                                        [1/2, 0 ,1/2, 0 , 0 , 0 ],\n",
    "                                        [ 0 ,1/2, 0 ,1/2, 0 , 0 ],\n",
    "                                        [ 0 , 0 ,1/2, 0 ,1/2, 0 ],\n",
    "                                        [ 0 , 0 , 0 ,1/2, 0 ,1/2],\n",
    "                                        [ 0 , 0 , 0 , 0 , 0 , 1 ]])"
   ]
  },
  {
   "cell_type": "code",
   "execution_count": 5,
   "metadata": {
    "collapsed": false
   },
   "outputs": [
    {
     "name": "stdout",
     "output_type": "stream",
     "text": [
      "[[ 0.   0.5  0.   0. ]\n",
      " [ 0.5  0.   0.5  0. ]\n",
      " [ 0.   0.5  0.   0.5]\n",
      " [ 0.   0.   0.5  0. ]] 4 [[ 0.5  0. ]\n",
      " [ 0.   0. ]\n",
      " [ 0.   0. ]\n",
      " [ 0.   0.5]]\n"
     ]
    }
   ],
   "source": [
    "Q,t,R = convert_canonical_form(transition_matrix_drunkard)\n",
    "print(Q, t, R)"
   ]
  },
  {
   "cell_type": "markdown",
   "metadata": {},
   "source": [
    "$N$ is the fundamnetal matrix of $P$ (Original transition matrix in canonical form). $N=(I-Q)^{-1}$. Each entry in $N$, $n_{i,j}$, is the expected number of times the chain is in state $j$ if it started in state $i$."
   ]
  },
  {
   "cell_type": "code",
   "execution_count": 6,
   "metadata": {
    "collapsed": false
   },
   "outputs": [
    {
     "data": {
      "text/plain": [
       "matrix([[ 1.6,  1.2,  0.8,  0.4],\n",
       "        [ 1.2,  2.4,  1.6,  0.8],\n",
       "        [ 0.8,  1.6,  2.4,  1.2],\n",
       "        [ 0.4,  0.8,  1.2,  1.6]])"
      ]
     },
     "execution_count": 6,
     "metadata": {},
     "output_type": "execute_result"
    }
   ],
   "source": [
    "I = np.identity(Q.shape[0])\n",
    "N = np.linalg.inv(I-Q)\n",
    "N"
   ]
  },
  {
   "cell_type": "code",
   "execution_count": null,
   "metadata": {
    "collapsed": true
   },
   "outputs": [],
   "source": []
  }
 ],
 "metadata": {
  "kernelspec": {
   "display_name": "Python 3",
   "language": "python",
   "name": "python3"
  },
  "language_info": {
   "codemirror_mode": {
    "name": "ipython",
    "version": 3
   },
   "file_extension": ".py",
   "mimetype": "text/x-python",
   "name": "python",
   "nbconvert_exporter": "python",
   "pygments_lexer": "ipython3",
   "version": "3.4.3"
  }
 },
 "nbformat": 4,
 "nbformat_minor": 0
}
